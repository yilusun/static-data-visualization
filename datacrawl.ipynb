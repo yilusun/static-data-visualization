{
 "cells": [
  {
   "cell_type": "code",
   "execution_count": 174,
   "metadata": {
    "collapsed": false
   },
   "outputs": [],
   "source": [
    "import urllib\n",
    "import re\n",
    "from bs4 import BeautifulSoup\n",
    "import sys\n",
    "import numpy as np\n",
    "import csv\n",
    "reload(sys)\n",
    "sys.setdefaultencoding('utf8') "
   ]
  },
  {
   "cell_type": "code",
   "execution_count": 148,
   "metadata": {
    "collapsed": false
   },
   "outputs": [],
   "source": [
    "def crawl(url):\n",
    "    page = urllib.urlopen(url)\n",
    "    contents = page.read()\n",
    "    soup = BeautifulSoup(contents)\n",
    "    f = open('/Users/panchen/Desktop/project1/data_of_age.txt','w')\n",
    "    for tag in soup.find_all('th', class_= 'stubhead'):\n",
    "        head = tag.get_text()\n",
    "        f.write(head + '\\n')\n",
    "    f.close()\n",
    "    "
   ]
  },
  {
   "cell_type": "code",
   "execution_count": 149,
   "metadata": {
    "collapsed": false
   },
   "outputs": [],
   "source": [
    "crawl('https://www.bls.gov/news.release/atus.t03.htm#tus_tu_nr3.f.2')"
   ]
  },
  {
   "cell_type": "code",
   "execution_count": 150,
   "metadata": {
    "collapsed": false
   },
   "outputs": [],
   "source": [
    "def crawlDataOfMen(url):\n",
    "    page = urllib.urlopen(url)\n",
    "    contents = page.read()\n",
    "    soup = BeautifulSoup(contents)\n",
    "    data1 = []\n",
    "    \n",
    "    \n",
    "    for tag in soup.find_all('tr'):\n",
    "       \n",
    "        if tag.find_all('th', headers = 'tus_tu_nr3.r.3') != []:\n",
    "            number = []\n",
    "            for t in tag.find_all('span', class_ = 'datavalue'):\n",
    "                n = t.get_text()\n",
    "                #print n\n",
    "                if '(' in n:\n",
    "                    number.append(0)\n",
    "                else:\n",
    "                    number.append(float(n))\n",
    "            data1.append(number);\n",
    "    \n",
    "    print data1\n",
    "    return data1\n",
    "    "
   ]
  },
  {
   "cell_type": "code",
   "execution_count": 151,
   "metadata": {
    "collapsed": false
   },
   "outputs": [],
   "source": [
    "data1 = crawlDataOfMen('https://www.bls.gov/news.release/atus.t03.htm#tus_tu_nr3.f.2')"
   ]
  },
  {
   "cell_type": "code",
   "execution_count": 152,
   "metadata": {
    "collapsed": true
   },
   "outputs": [],
   "source": [
    "def crawlDataOfWomen(url):\n",
    "    page = urllib.urlopen(url)\n",
    "    contents = page.read()\n",
    "    soup = BeautifulSoup(contents)\n",
    "    data2 = []\n",
    "    \n",
    "    \n",
    "    for tag in soup.find_all('tr'):\n",
    "       \n",
    "        if tag.find_all('th', headers = 'tus_tu_nr3.r.4') != []:\n",
    "            number = []\n",
    "            for t in tag.find_all('span', class_ = 'datavalue'):\n",
    "                n = t.get_text()\n",
    "                #print n\n",
    "                if '(' in n:\n",
    "                    number.append(0)\n",
    "                else:\n",
    "                    number.append(float(n))\n",
    "            data2.append(number);\n",
    "    print data2\n",
    "    return data2"
   ]
  },
  {
   "cell_type": "code",
   "execution_count": 153,
   "metadata": {
    "collapsed": true
   },
   "outputs": [],
   "source": [
    "data2 = crawlDataOfWomen('https://www.bls.gov/news.release/atus.t03.htm#tus_tu_nr3.f.2')"
   ]
  },
  {
   "cell_type": "code",
   "execution_count": 177,
   "metadata": {
    "collapsed": false
   },
   "outputs": [],
   "source": [
    "men = np.array(data1)\n",
    "women = np.array(data2)\n",
    "events = [[\"Personalcareactivities\"],[\"Eating anddrinking\"],[\"Householdactivities\"],[\"Purchasinggoods andservices\"],\n",
    "         [\"Caring forandhelpinghouseholdmembers\"],[\"Caring forandhelpingnon-householdmembers\"],[\"Workingand work-relatedactivities\"],\n",
    "         [\"Educationalactivities\"],[\"Organizational,civic, andreligious activities\"],[\"Leisureand sports\"],[\"Telephonecalls, mail,and e-mail\"],\n",
    "         [\"Otheractivities,notelsewhereclassified\"]]\n",
    "events = np.array(events).reshape(1,12)\n",
    "index = [[0, 1, 2, 3, 4, 5, 6, 7, 8, 9, 10, 11]]\n",
    "difference = men - women\n",
    "print events.shape\n",
    "print difference.shape\n",
    "newdata = np.append(index,difference,axis = 0)\n",
    "print newdata.shape\n",
    "#value = difference.T #row value: difference between men and women in a event\n",
    "#print value \n"
   ]
  },
  {
   "cell_type": "code",
   "execution_count": 165,
   "metadata": {
    "collapsed": false
   },
   "outputs": [],
   "source": [
    "print difference.shape\n",
    "#print value.shape"
   ]
  },
  {
   "cell_type": "code",
   "execution_count": 181,
   "metadata": {
    "collapsed": false
   },
   "outputs": [],
   "source": [
    "np.savetxt('difference_gender_events.csv', difference, delimiter=',')\n"
   ]
  },
  {
   "cell_type": "code",
   "execution_count": 194,
   "metadata": {
    "collapsed": true
   },
   "outputs": [],
   "source": [
    "def crawlDataOfTotal(url):\n",
    "    page = urllib.urlopen(url)\n",
    "    contents = page.read()\n",
    "    soup = BeautifulSoup(contents)\n",
    "    data2 = []\n",
    "    \n",
    "    \n",
    "    for tag in soup.find_all('tr'):\n",
    "       \n",
    "        if (tag.find_all('p', class_ = 'sub1') != []) and (tag.find_all('th', headers='tus_tu_nr1.r.1') != []):\n",
    "            number = [];\n",
    "            for t in tag.find_all('span', class_ = 'datavalue'):\n",
    "                \n",
    "                n = t.get_text()\n",
    "                #print n\n",
    "                if '(' in n:\n",
    "                    number.append(0);\n",
    "                else:\n",
    "                    number.append(float(n));\n",
    "                \n",
    "            data2.append(number[0]);\n",
    "   \n",
    "    return data2"
   ]
  },
  {
   "cell_type": "code",
   "execution_count": 202,
   "metadata": {
    "collapsed": false
   },
   "outputs": [
    {
     "data": {
      "text/plain": [
       "[9.64, 1.18, 1.84, 0.75, 0.51, 0.19, 3.53, 0.46, 0.33, 5.21, 0.16, 0.19]"
      ]
     },
     "execution_count": 202,
     "metadata": {},
     "output_type": "execute_result"
    }
   ],
   "source": [
    "data2015 = crawlDataOfTotal('https://www.bls.gov/news.release/archives/atus_06242016.htm')"
   ]
  },
  {
   "cell_type": "code",
   "execution_count": 200,
   "metadata": {
    "collapsed": false
   },
   "outputs": [
    {
     "data": {
      "text/plain": [
       "[9.58, 1.17, 1.77, 0.74, 0.54, 0.18, 3.59, 0.42, 0.32, 5.3, 0.14, 0.23]"
      ]
     },
     "execution_count": 200,
     "metadata": {},
     "output_type": "execute_result"
    }
   ],
   "source": [
    "data2014 = crawlDataOfTotal('https://www.bls.gov/news.release/archives/atus_06242015.htm')"
   ]
  },
  {
   "cell_type": "code",
   "execution_count": 201,
   "metadata": {
    "collapsed": false
   },
   "outputs": [
    {
     "data": {
      "text/plain": [
       "[]"
      ]
     },
     "execution_count": 201,
     "metadata": {},
     "output_type": "execute_result"
    }
   ],
   "source": []
  },
  {
   "cell_type": "code",
   "execution_count": null,
   "metadata": {
    "collapsed": true
   },
   "outputs": [],
   "source": []
  }
 ],
 "metadata": {
  "kernelspec": {
   "display_name": "Python 2",
   "language": "python",
   "name": "python2"
  },
  "language_info": {
   "codemirror_mode": {
    "name": "ipython",
    "version": 2
   },
   "file_extension": ".py",
   "mimetype": "text/x-python",
   "name": "python",
   "nbconvert_exporter": "python",
   "pygments_lexer": "ipython2",
   "version": "2.7.10"
  }
 },
 "nbformat": 4,
 "nbformat_minor": 1
}
