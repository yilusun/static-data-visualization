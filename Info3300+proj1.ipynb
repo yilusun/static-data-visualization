{
 "cells": [
  {
   "cell_type": "code",
   "execution_count": 4,
   "metadata": {
    "collapsed": true
   },
   "outputs": [],
   "source": [
    "from pyquery import PyQuery as pq"
   ]
  },
  {
   "cell_type": "code",
   "execution_count": 1,
   "metadata": {
    "collapsed": true
   },
   "outputs": [],
   "source": [
    "import urllib\n",
    "import pprint"
   ]
  },
  {
   "cell_type": "code",
   "execution_count": 3,
   "metadata": {
    "collapsed": true
   },
   "outputs": [],
   "source": [
    "html = pq(\"https://www.bls.gov/news.release/atus.t01.htm\");"
   ]
  },
  {
   "cell_type": "code",
   "execution_count": 4,
   "metadata": {
    "collapsed": false
   },
   "outputs": [
    {
     "data": {
      "text/plain": [
       "[<html>]"
      ]
     },
     "execution_count": 4,
     "metadata": {},
     "output_type": "execute_result"
    }
   ],
   "source": [
    "html"
   ]
  },
  {
   "cell_type": "code",
   "execution_count": 9,
   "metadata": {
    "collapsed": false
   },
   "outputs": [],
   "source": [
    "entries = html('#tus_tu_nr1 tbody tr')"
   ]
  },
  {
   "cell_type": "code",
   "execution_count": 13,
   "metadata": {
    "collapsed": false
   },
   "outputs": [
    {
     "data": {
      "text/plain": [
       "'\\n\\t<th id=\"tus_tu_nr1.r.1\"><p class=\"sub0\">Total, all activities<span class=\"footnoteRefs\">(<a href=\"#tus_tu_nr1.f.1\" title=\"Click to jump to footnotes at bottom of the table\">1</a>)</span></p></th>\\n\\t<td><span class=\"datavalue\">24.00</span></td>\\n\\t<td><span class=\"datavalue\">24.00</span></td>\\n\\t<td><span class=\"datavalue\">24.00</span></td>\\n\\t<td><span class=\"datavalue\">-</span></td>\\n\\t<td><span class=\"datavalue\">-</span></td>\\n\\t<td><span class=\"datavalue\">-</span></td>\\n\\t<td><span class=\"datavalue\">-</span></td>\\n\\t<td><span class=\"datavalue\">-</span></td>\\n\\t<td><span class=\"datavalue\">-</span></td>\\n'"
      ]
     },
     "execution_count": 13,
     "metadata": {},
     "output_type": "execute_result"
    }
   ],
   "source": [
    "pq(entries[0]).html()"
   ]
  },
  {
   "cell_type": "code",
   "execution_count": 22,
   "metadata": {
    "collapsed": false
   },
   "outputs": [],
   "source": [
    "data_entries = []\n",
    "for e in entries:\n",
    "    e = pq(e)\n",
    "    activity_name = e('th')\n",
    "    cols = e('td')\n",
    "    data_entry = []\n",
    "    for c in cols:\n",
    "        c = pq(c)\n",
    "        data_entry.append(c.text())\n",
    "    entry_dict = {}\n",
    "    entry_dict['activity'] = activity_name.text()\n",
    "    entry_dict['data'] = data_entry\n",
    "    data_entries.append(entry_dict)\n",
    "\n",
    "import json\n",
    "with open('data.json', 'w') as output:\n",
    "    json.dump(data_entries, output, indent=4)"
   ]
  },
  {
   "cell_type": "code",
   "execution_count": 23,
   "metadata": {
    "collapsed": false
   },
   "outputs": [
    {
     "name": "stdout",
     "output_type": "stream",
     "text": [
      "CDF Plot.ipynb                         Untitled1.ipynb\r\n",
      "Info3300 proj1.ipynb                   Untitled2.ipynb\r\n",
      "MatrixManipulate.ipynb                 \u001b[1m\u001b[36maxis\u001b[m\u001b[m/\r\n",
      "\u001b[1m\u001b[36mPerformancePlots\u001b[m\u001b[m/                      data.json\r\n",
      "Plot new.ipynb                         geckodriver.log\r\n",
      "\u001b[1m\u001b[36mTest1\u001b[m\u001b[m/                                 \u001b[1m\u001b[36mnewtestdata\u001b[m\u001b[m/\r\n",
      "\u001b[1m\u001b[36mTestVersion2.6\u001b[m\u001b[m/                        reviews_Musical_Instruments_5.json.gz\r\n",
      "Untitled.ipynb\r\n"
     ]
    }
   ],
   "source": [
    "ls"
   ]
  },
  {
   "cell_type": "code",
   "execution_count": 3,
   "metadata": {
    "collapsed": true
   },
   "outputs": [],
   "source": [
    "html = pq(\"https://www.bls.gov/news.release/atus.t03.htm\")"
   ]
  },
  {
   "cell_type": "code",
   "execution_count": 4,
   "metadata": {
    "collapsed": true
   },
   "outputs": [],
   "source": [
    "entries = html('#tus_tu_nr3 tbody tr')"
   ]
  },
  {
   "cell_type": "code",
   "execution_count": 5,
   "metadata": {
    "collapsed": false
   },
   "outputs": [
    {
     "data": {
      "text/plain": [
       "61"
      ]
     },
     "execution_count": 5,
     "metadata": {},
     "output_type": "execute_result"
    }
   ],
   "source": [
    "len(entries)"
   ]
  },
  {
   "cell_type": "code",
   "execution_count": 18,
   "metadata": {
    "collapsed": true
   },
   "outputs": [],
   "source": [
    "tr = entries[0]"
   ]
  },
  {
   "cell_type": "code",
   "execution_count": 19,
   "metadata": {
    "collapsed": true
   },
   "outputs": [],
   "source": [
    "tr = pq(tr)"
   ]
  },
  {
   "cell_type": "code",
   "execution_count": 20,
   "metadata": {
    "collapsed": false
   },
   "outputs": [
    {
     "data": {
      "text/plain": [
       "[<td>]"
      ]
     },
     "execution_count": 20,
     "metadata": {},
     "output_type": "execute_result"
    }
   ],
   "source": [
    "tr('td')"
   ]
  },
  {
   "cell_type": "code",
   "execution_count": 28,
   "metadata": {
    "collapsed": false
   },
   "outputs": [
    {
     "name": "stdout",
     "output_type": "stream",
     "text": [
      "22\n"
     ]
    }
   ],
   "source": [
    "s = 'Other marital statuses'\n",
    "print(len(s))"
   ]
  },
  {
   "cell_type": "code",
   "execution_count": 29,
   "metadata": {
    "collapsed": false
   },
   "outputs": [],
   "source": [
    "dataset = []\n",
    "for tr in entries:\n",
    "    tr = pq(tr)\n",
    "    th_txt = tr('th').text()\n",
    "    if th_txt is '':\n",
    "        pass\n",
    "    else:\n",
    "        tds = tr('td')\n",
    "        if len(tds) < 2:\n",
    "            category = {}\n",
    "            category['name'] = th_txt\n",
    "            category['sub'] = []\n",
    "            dataset.append(category)\n",
    "        else:\n",
    "            category = dataset[-1]\n",
    "            if len(th_txt) > 17: # no better way to identify subroutine.\n",
    "                sub_cate = {}\n",
    "                sub_cate['title'] = th_txt\n",
    "                sub_cate['data'] = []\n",
    "                sub_cate['sub'] = []\n",
    "                for td in tds:\n",
    "                    td = pq(td)\n",
    "                    sub_cate['data'].append(td.text())\n",
    "                category['sub'].append(sub_cate)\n",
    "            else:\n",
    "                sub_cate = category['sub'][-1]\n",
    "                sub_sub = {}\n",
    "                sub_sub['title'] = th_txt\n",
    "                sub_sub['data'] = []\n",
    "                for td in tds:\n",
    "                    td = pq(td)\n",
    "                    sub_sub['data'].append(td.text())\n",
    "                sub_cate['sub'].append(sub_sub)\n",
    "import json\n",
    "with open('data2.json', 'w') as output:\n",
    "    json.dump(dataset, output, indent=2) "
   ]
  },
  {
   "cell_type": "code",
   "execution_count": 30,
   "metadata": {
    "collapsed": true
   },
   "outputs": [],
   "source": [
    "headers = html('#tus_tu_nr3 thead tr')"
   ]
  },
  {
   "cell_type": "code",
   "execution_count": 38,
   "metadata": {
    "collapsed": true
   },
   "outputs": [],
   "source": [
    "heads = headers[1]"
   ]
  },
  {
   "cell_type": "code",
   "execution_count": 39,
   "metadata": {
    "collapsed": false
   },
   "outputs": [],
   "source": [
    "heads = pq(heads)"
   ]
  },
  {
   "cell_type": "code",
   "execution_count": 42,
   "metadata": {
    "collapsed": false
   },
   "outputs": [
    {
     "name": "stdout",
     "output_type": "stream",
     "text": [
      "12\n"
     ]
    }
   ],
   "source": [
    "ths = heads('th')\n",
    "print(len(ths))"
   ]
  },
  {
   "cell_type": "code",
   "execution_count": 43,
   "metadata": {
    "collapsed": false
   },
   "outputs": [
    {
     "name": "stdout",
     "output_type": "stream",
     "text": [
      "Personal care activities\n",
      "Eating and drinking\n",
      "Household activities\n",
      "Purchasing goods and services\n",
      "Caring for and helping household members\n",
      "Caring for and helping non- household members\n",
      "Working and work- related activities\n",
      "Educational activities\n",
      "Organizational, civic, and religious activities\n",
      "Leisure and sports\n",
      "Telephone calls, mail, and e-mail\n",
      "Other activities, not elsewhere classified\n"
     ]
    }
   ],
   "source": [
    "data_descriptions = []\n",
    "for th in ths:\n",
    "    th = pq(th)\n",
    "    print(th.text())\n",
    "    data_descriptions.append(th.text())\n",
    "with open('desc.json','w') as output:\n",
    "    json.dump(data_descriptions, output, indent=2)"
   ]
  },
  {
   "cell_type": "code",
   "execution_count": 45,
   "metadata": {
    "collapsed": false
   },
   "outputs": [
    {
     "data": {
      "text/plain": [
       "['Personal care activities',\n",
       " 'Eating and drinking',\n",
       " 'Household activities',\n",
       " 'Purchasing goods and services',\n",
       " 'Caring for and helping household members',\n",
       " 'Caring for and helping non- household members',\n",
       " 'Working and work- related activities',\n",
       " 'Educational activities',\n",
       " 'Organizational, civic, and religious activities',\n",
       " 'Leisure and sports',\n",
       " 'Telephone calls, mail, and e-mail',\n",
       " 'Other activities, not elsewhere classified']"
      ]
     },
     "execution_count": 45,
     "metadata": {},
     "output_type": "execute_result"
    }
   ],
   "source": [
    "data_descriptions"
   ]
  },
  {
   "cell_type": "code",
   "execution_count": 49,
   "metadata": {
    "collapsed": false
   },
   "outputs": [],
   "source": [
    "dataset = []\n",
    "for tr in entries:\n",
    "    tr = pq(tr)\n",
    "    th_txt = tr('th').text()\n",
    "    if th_txt is '':\n",
    "        pass\n",
    "    else:\n",
    "        tds = tr('td')\n",
    "        if len(tds) < 2:\n",
    "            category = {}\n",
    "            category['name'] = th_txt\n",
    "            category['sub'] = []\n",
    "            dataset.append(category)\n",
    "        else:\n",
    "            category = dataset[-1]\n",
    "            if len(th_txt) > 17: # no better way to identify subroutine.\n",
    "                sub_cate = {}\n",
    "                sub_cate['title'] = th_txt\n",
    "                sub_cate['data'] = []\n",
    "                sub_cate['sub'] = []\n",
    "                for i in range(len(tds)):\n",
    "                    td = tds[i]\n",
    "                    td = pq(td)\n",
    "                    sub_cate['data'].append({data_descriptions[i]: td.text()})\n",
    "                category['sub'].append(sub_cate)\n",
    "            else:\n",
    "                sub_cate = category['sub'][-1]\n",
    "                sub_sub = {}\n",
    "                sub_sub['title'] = th_txt\n",
    "                sub_sub['data'] = []\n",
    "                for i in range(len(tds)):\n",
    "                    td = tds[i]\n",
    "                    td = pq(td)\n",
    "                    sub_sub['data'].append({data_descriptions[i]: td.text()})\n",
    "                sub_cate['sub'].append(sub_sub)\n",
    "import json\n",
    "with open('data2.json', 'w') as output:\n",
    "    json.dump(dataset, output, indent=2) "
   ]
  },
  {
   "cell_type": "code",
   "execution_count": 5,
   "metadata": {
    "collapsed": false
   },
   "outputs": [],
   "source": [
    "html = pq(\"https://www.bls.gov/tus/tables/a3_1115.htm\")"
   ]
  },
  {
   "cell_type": "code",
   "execution_count": 6,
   "metadata": {
    "collapsed": true
   },
   "outputs": [],
   "source": [
    "table_a = html(\"#tus_tu_a3a\")\n",
    "table_b = html(\"#tus_tu_a3b\")"
   ]
  },
  {
   "cell_type": "code",
   "execution_count": 53,
   "metadata": {
    "collapsed": true
   },
   "outputs": [],
   "source": [
    "table_a = pq(table_a)\n",
    "table_b = pq(table_b)"
   ]
  },
  {
   "cell_type": "code",
   "execution_count": 8,
   "metadata": {
    "collapsed": true
   },
   "outputs": [],
   "source": [
    "entries_a = table_a('tbody tr')"
   ]
  },
  {
   "cell_type": "code",
   "execution_count": 9,
   "metadata": {
    "collapsed": false
   },
   "outputs": [
    {
     "data": {
      "text/plain": [
       "[<tr>, <tr.greenbar>, <tr>, <tr.greenbar>, <tr>, <tr.greenbar>, <tr>, <tr.greenbar>, <tr>, <tr.greenbar>, <tr>, <tr.greenbar>, <tr>, <tr.greenbar>, <tr>, <tr.greenbar>, <tr>, <tr.greenbar>, <tr>, <tr.greenbar>, <tr>, <tr.greenbar>, <tr>, <tr.greenbar>, <tr>, <tr.greenbar>, <tr>, <tr.greenbar>, <tr>, <tr.greenbar>]"
      ]
     },
     "execution_count": 9,
     "metadata": {},
     "output_type": "execute_result"
    }
   ],
   "source": [
    "entries_a"
   ]
  },
  {
   "cell_type": "code",
   "execution_count": 77,
   "metadata": {
    "collapsed": false
   },
   "outputs": [],
   "source": [
    "ths = []\n",
    "def extractdata(table):\n",
    "    \n",
    "    entries = table('tbody tr')\n",
    "    data = {}\n",
    "    for i in range(len(entries)):\n",
    "        tr = entries[i]\n",
    "        tr = pq(tr)\n",
    "        p = tr('th p')\n",
    "        \n",
    "        nxt_p_sub2 = False\n",
    "        if i < len(entries) - 2:\n",
    "            nxt_tr = entries[i + 1]\n",
    "            nxt_tr = pq(nxt_tr)\n",
    "            nxt_p = nxt_tr('th p')\n",
    "            if nxt_p.attr['class'] == 'sub2':\n",
    "                nxt_p_sub2 = True\n",
    "        \n",
    "        need_this_line = False\n",
    "        if p.attr['class'] == 'sub2':\n",
    "            need_this_line = True\n",
    "        elif p.attr['class'] == 'sub0':\n",
    "            pass\n",
    "        elif not nxt_p_sub2:\n",
    "            need_this_line = True\n",
    "\n",
    "        if need_this_line:\n",
    "            ths.append(p.text())\n",
    "            tds = tr('td')\n",
    "            line_datas = []\n",
    "            for td in tds:\n",
    "                td = pq(td)\n",
    "                value = td.text()\n",
    "                if '-' in value:\n",
    "                    value = \"0\"\n",
    "                line_datas.append(value)\n",
    "            data[p.text()] = line_datas\n",
    "    return data\n",
    "\n",
    "dataA = extractdata(table_a)\n",
    "dataB = extractdata(table_b)\n",
    "ths = ths[0:int(len(ths)/2)]"
   ]
  },
  {
   "cell_type": "code",
   "execution_count": 95,
   "metadata": {
    "collapsed": false
   },
   "outputs": [
    {
     "data": {
      "text/plain": [
       "{'Attending class': ['0',\n",
       "  '0',\n",
       "  '0',\n",
       "  '0',\n",
       "  '0',\n",
       "  '0',\n",
       "  '0',\n",
       "  '0.4',\n",
       "  '2.5',\n",
       "  '3.4',\n",
       "  '3.6',\n",
       "  '3.3'],\n",
       " 'Caring for and helping household children': ['0.2',\n",
       "  '0.2',\n",
       "  '0.2',\n",
       "  '0.2',\n",
       "  '0.4',\n",
       "  '0.3',\n",
       "  '1.2',\n",
       "  '2.6',\n",
       "  '2.1',\n",
       "  '1.9',\n",
       "  '1.8',\n",
       "  '1.7'],\n",
       " 'Caring for and helping nonhousehold adults': ['0',\n",
       "  '0',\n",
       "  '0',\n",
       "  '0',\n",
       "  '0',\n",
       "  '0',\n",
       "  '0.1',\n",
       "  '0.1',\n",
       "  '0.2',\n",
       "  '0.3',\n",
       "  '0.5',\n",
       "  '0.5'],\n",
       " 'Consumer goods purchases': ['0.1',\n",
       "  '0',\n",
       "  '0',\n",
       "  '0',\n",
       "  '0',\n",
       "  '0',\n",
       "  '0.1',\n",
       "  '0.2',\n",
       "  '0.5',\n",
       "  '1.1',\n",
       "  '2.3',\n",
       "  '3.1'],\n",
       " 'Eating and drinking': ['0.6',\n",
       "  '0.3',\n",
       "  '0.3',\n",
       "  '0.3',\n",
       "  '0.5',\n",
       "  '1.2',\n",
       "  '3.2',\n",
       "  '6.2',\n",
       "  '7.3',\n",
       "  '6.7',\n",
       "  '5.3',\n",
       "  '6.2'],\n",
       " 'Food preparation and cleanup': ['0.1',\n",
       "  '0.1',\n",
       "  '0.1',\n",
       "  '0.1',\n",
       "  '0.4',\n",
       "  '0.9',\n",
       "  '2.4',\n",
       "  '3.6',\n",
       "  '3.6',\n",
       "  '3.2',\n",
       "  '2.6',\n",
       "  '2.8'],\n",
       " 'Homework and research': ['0.2',\n",
       "  '0.2',\n",
       "  '0.1',\n",
       "  '0',\n",
       "  '0.1',\n",
       "  '0.1',\n",
       "  '0.1',\n",
       "  '0.2',\n",
       "  '0.3',\n",
       "  '0.5',\n",
       "  '0.7',\n",
       "  '0.9'],\n",
       " 'Household management': ['0.1',\n",
       "  '0.1',\n",
       "  '0',\n",
       "  '0',\n",
       "  '0',\n",
       "  '0.1',\n",
       "  '0.2',\n",
       "  '0.4',\n",
       "  '0.6',\n",
       "  '0.8',\n",
       "  '0.9',\n",
       "  '0.9'],\n",
       " 'Housework': ['0.2',\n",
       "  '0.1',\n",
       "  '0.1',\n",
       "  '0',\n",
       "  '0.1',\n",
       "  '0.3',\n",
       "  '0.8',\n",
       "  '1.8',\n",
       "  '3.6',\n",
       "  '5.4',\n",
       "  '6.2',\n",
       "  '6.0'],\n",
       " 'Lawn and garden care': ['0',\n",
       "  '0',\n",
       "  '0',\n",
       "  '0',\n",
       "  '0',\n",
       "  '0',\n",
       "  '0.1',\n",
       "  '0.4',\n",
       "  '0.9',\n",
       "  '1.5',\n",
       "  '1.9',\n",
       "  '1.9'],\n",
       " 'Other activities, not elsewhere classified': ['0.3',\n",
       "  '0.1',\n",
       "  '0.1',\n",
       "  '0.1',\n",
       "  '0.2',\n",
       "  '0.3',\n",
       "  '0.6',\n",
       "  '1.1',\n",
       "  '1.3',\n",
       "  '1.4',\n",
       "  '1.6',\n",
       "  '1.6'],\n",
       " 'Participating in sports, exercise, and recreation': ['0.2',\n",
       "  '0.1',\n",
       "  '0.1',\n",
       "  '0',\n",
       "  '0.1',\n",
       "  '0.3',\n",
       "  '1.0',\n",
       "  '1.2',\n",
       "  '1.6',\n",
       "  '1.9',\n",
       "  '2.0',\n",
       "  '1.9'],\n",
       " 'Professional and personal care services': ['0',\n",
       "  '0',\n",
       "  '0',\n",
       "  '0',\n",
       "  '0',\n",
       "  '0',\n",
       "  '0',\n",
       "  '0.1',\n",
       "  '0.3',\n",
       "  '0.7',\n",
       "  '0.9',\n",
       "  '1.0'],\n",
       " 'Religious and spiritual activities': ['0.1',\n",
       "  '0',\n",
       "  '0',\n",
       "  '0.1',\n",
       "  '0.1',\n",
       "  '0.2',\n",
       "  '0.4',\n",
       "  '0.5',\n",
       "  '0.7',\n",
       "  '1.2',\n",
       "  '1.9',\n",
       "  '2.2'],\n",
       " 'Sleeping': ['84.5',\n",
       "  '91.5',\n",
       "  '94.3',\n",
       "  '95.2',\n",
       "  '91.7',\n",
       "  '85.2',\n",
       "  '65.7',\n",
       "  '42.4',\n",
       "  '24.8',\n",
       "  '13.7',\n",
       "  '7.5',\n",
       "  '4.9'],\n",
       " 'Socializing and communicating': ['1.1',\n",
       "  '0.7',\n",
       "  '0.3',\n",
       "  '0.2',\n",
       "  '0.1',\n",
       "  '0.1',\n",
       "  '0.2',\n",
       "  '0.7',\n",
       "  '1.0',\n",
       "  '1.4',\n",
       "  '2.3',\n",
       "  '2.7'],\n",
       " 'Telephone calls, mail, and e-mail': ['0.4',\n",
       "  '0.2',\n",
       "  '0.1',\n",
       "  '0.1',\n",
       "  '0.1',\n",
       "  '0.1',\n",
       "  '0.2',\n",
       "  '0.4',\n",
       "  '0.6',\n",
       "  '0.7',\n",
       "  '0.8',\n",
       "  '0.9'],\n",
       " 'Volunteering (organizational and civic activities)': ['0.1',\n",
       "  '0',\n",
       "  '0',\n",
       "  '0',\n",
       "  '0',\n",
       "  '0',\n",
       "  '0.1',\n",
       "  '0.2',\n",
       "  '0.5',\n",
       "  '0.9',\n",
       "  '1.3',\n",
       "  '1.3'],\n",
       " 'Watching television': ['4.6',\n",
       "  '2.1',\n",
       "  '1.2',\n",
       "  '0.7',\n",
       "  '0.8',\n",
       "  '1.3',\n",
       "  '2.0',\n",
       "  '3.3',\n",
       "  '4.4',\n",
       "  '5.8',\n",
       "  '7.0',\n",
       "  '8.1'],\n",
       " 'Working': ['1.9',\n",
       "  '1.6',\n",
       "  '1.3',\n",
       "  '1.3',\n",
       "  '1.9',\n",
       "  '2.7',\n",
       "  '5.7',\n",
       "  '11.8',\n",
       "  '21.3',\n",
       "  '26.9',\n",
       "  '28.6',\n",
       "  '29.2']}"
      ]
     },
     "execution_count": 95,
     "metadata": {},
     "output_type": "execute_result"
    }
   ],
   "source": [
    "dataA"
   ]
  },
  {
   "cell_type": "code",
   "execution_count": 13,
   "metadata": {
    "collapsed": false
   },
   "outputs": [],
   "source": [
    "times_a = table_a('thead th')[1:]\n",
    "times_b = table_b('thead th')[1:]\n",
    "\n",
    "t1 = []\n",
    "t2 = []\n",
    "for i in range(len(times_a)):\n",
    "    t1.append(pq(times_a[i]).text())\n",
    "    t2.append(pq(times_b[i]).text())\n",
    "    "
   ]
  },
  {
   "cell_type": "code",
   "execution_count": 14,
   "metadata": {
    "collapsed": false
   },
   "outputs": [
    {
     "name": "stdout",
     "output_type": "stream",
     "text": [
      "['12 AM', '1 AM', '2 AM', '3 AM', '4 AM', '5 AM', '6 AM', '7 AM', '8 AM', '9 AM', '10 AM', '11 AM', '12 PM', '1 PM', '2 PM', '3 PM', '4 PM', '5 PM', '6 PM', '7 PM', '8 PM', '9 PM', '10 PM', '11 PM']\n"
     ]
    }
   ],
   "source": [
    "t = t1+t2\n",
    "print(t)"
   ]
  },
  {
   "cell_type": "code",
   "execution_count": 96,
   "metadata": {
    "collapsed": false
   },
   "outputs": [],
   "source": [
    "data = open('data3.tsv', 'w')\n",
    "first_row = \"time\\t\"\n",
    "for t in ths:\n",
    "    first_row += t\n",
    "    first_row += '\\t'\n",
    "first_row = first_row[0:-1]\n",
    "first_row += '\\n'\n",
    "data.write(first_row)\n",
    "\n",
    "for i in range(len(t1)):\n",
    "    row = \"\"\n",
    "    row += t1[i]\n",
    "    row += '\\t'\n",
    "    for t in ths:\n",
    "        x = dataA[t][i]\n",
    "        row += x\n",
    "        row += '\\t'\n",
    "    row = row[0:-1]\n",
    "    row += '\\n'\n",
    "    data.write(row)\n",
    "\n",
    "for i in range(len(t2)):\n",
    "    row = \"\"\n",
    "    row += t2[i]\n",
    "    row += '\\t'\n",
    "    for t in ths:\n",
    "        x = dataB[t][i]\n",
    "        row += x\n",
    "        row += '\\t'\n",
    "    row = row[0:-1]\n",
    "    row += '\\n'\n",
    "    data.write(row)\n",
    "\n",
    "data.close()"
   ]
  },
  {
   "cell_type": "code",
   "execution_count": 10,
   "metadata": {
    "collapsed": true
   },
   "outputs": [],
   "source": [
    "ths = []\n",
    "def extractdata(table):\n",
    "    \n",
    "    entries = table('tbody tr')\n",
    "    data = {}\n",
    "    for i in range(len(entries)):\n",
    "        tr = entries[i]\n",
    "        tr = pq(tr)\n",
    "        p = tr('th p')\n",
    "        \n",
    "        if p.attr['class'] == 'sub1':\n",
    "            ths.append(p.text())\n",
    "            tds = tr('td')\n",
    "            line_datas = []\n",
    "            for td in tds:\n",
    "                td = pq(td)\n",
    "                value = td.text()\n",
    "                if '-' in value:\n",
    "                    value = \"0\"\n",
    "                line_datas.append(value)\n",
    "            data[p.text()] = line_datas\n",
    "    return data\n",
    "\n",
    "dataA = extractdata(table_a)\n",
    "dataB = extractdata(table_b)\n",
    "ths = ths[0:int(len(ths)/2)]"
   ]
  },
  {
   "cell_type": "code",
   "execution_count": 11,
   "metadata": {
    "collapsed": false
   },
   "outputs": [
    {
     "data": {
      "text/plain": [
       "['Personal care activities',\n",
       " 'Eating and drinking',\n",
       " 'Household activities',\n",
       " 'Purchasing goods and services',\n",
       " 'Caring for and helping household members',\n",
       " 'Caring for and helping nonhousehold members',\n",
       " 'Working and work-related activities',\n",
       " 'Educational activities',\n",
       " 'Organizational, civic, and religious activities',\n",
       " 'Leisure and sports',\n",
       " 'Telephone calls, mail, and e-mail',\n",
       " 'Other activities, not elsewhere classified']"
      ]
     },
     "execution_count": 11,
     "metadata": {},
     "output_type": "execute_result"
    }
   ],
   "source": [
    "ths"
   ]
  },
  {
   "cell_type": "code",
   "execution_count": 15,
   "metadata": {
    "collapsed": false
   },
   "outputs": [],
   "source": [
    "data = open('data4.tsv', 'w')\n",
    "first_row = \"time\\t\"\n",
    "for t in ths:\n",
    "    first_row += t\n",
    "    first_row += '\\t'\n",
    "first_row = first_row[0:-1]\n",
    "first_row += '\\n'\n",
    "data.write(first_row)\n",
    "\n",
    "for i in range(len(t1)):\n",
    "    row = \"\"\n",
    "    row += t1[i]\n",
    "    row += '\\t'\n",
    "    for t in ths:\n",
    "        x = dataA[t][i]\n",
    "        row += x\n",
    "        row += '\\t'\n",
    "    row = row[0:-1]\n",
    "    row += '\\n'\n",
    "    data.write(row)\n",
    "\n",
    "for i in range(len(t2)):\n",
    "    row = \"\"\n",
    "    row += t2[i]\n",
    "    row += '\\t'\n",
    "    for t in ths:\n",
    "        x = dataB[t][i]\n",
    "        row += x\n",
    "        row += '\\t'\n",
    "    row = row[0:-1]\n",
    "    row += '\\n'\n",
    "    data.write(row)\n",
    "\n",
    "data.close()"
   ]
  },
  {
   "cell_type": "code",
   "execution_count": null,
   "metadata": {
    "collapsed": true
   },
   "outputs": [],
   "source": []
  }
 ],
 "metadata": {
  "kernelspec": {
   "display_name": "Python 2",
   "language": "python",
   "name": "python2"
  },
  "language_info": {
   "codemirror_mode": {
    "name": "ipython",
    "version": 2
   },
   "file_extension": ".py",
   "mimetype": "text/x-python",
   "name": "python",
   "nbconvert_exporter": "python",
   "pygments_lexer": "ipython2",
   "version": "2.7.10"
  }
 },
 "nbformat": 4,
 "nbformat_minor": 0
}
